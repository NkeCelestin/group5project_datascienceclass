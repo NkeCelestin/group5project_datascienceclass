{
 "cells": [
  {
   "cell_type": "markdown",
   "id": "231fec1f-1d9b-4bf6-a362-603938dbd80b",
   "metadata": {},
   "source": [
    "# Final Project-Group 5 Data Science Class"
   ]
  },
  {
   "cell_type": "markdown",
   "id": "ced36a8c-e64c-494f-bf0e-daf15e2d84ef",
   "metadata": {},
   "source": [
    "## Step 0: Dataset Description"
   ]
  },
  {
   "attachments": {},
   "cell_type": "markdown",
   "id": "a1204108-5c83-426c-b2e1-aaddb1e950fd",
   "metadata": {},
   "source": [
    "The dataset gives a detailed view of sales transactions, including customer demographics (age, gender, location), product details, and financial metrics like cost, revenue, and profit. It supports analysis of purchasing behavior across demographic groups and trends over time based on product quantity sold. Containing both numeric and categorical data, it enables multi-level analysis by product, customer, and region using various visualization and statistical techniques. It has 13 columns and 34865 rows. "
   ]
  },
  {
   "cell_type": "markdown",
   "id": "fb63f59b-49c0-426c-a614-356ed41ca37b",
   "metadata": {},
   "source": [
    "## Step 1: Data Pipeline & Preparation"
   ]
  },
  {
   "cell_type": "markdown",
   "id": "5fe7baed-b9ee-4465-9bb7-242045fa8f16",
   "metadata": {},
   "source": [
    "### 1.1. Data Acquisition"
   ]
  },
  {
   "cell_type": "code",
   "execution_count": 3,
   "id": "681af5ec-99d1-4a8f-b3d8-0e41d428de64",
   "metadata": {},
   "outputs": [],
   "source": [
    "import pandas as pd\n",
    "import numpy as np\n",
    "import matplotlib.pyplot as plt\n",
    "import seaborn as sns\n",
    "\n",
    "from sklearn.linear_model import LinearRegression\n",
    "from sklearn.model_selection import train_test_split\n",
    "from sklearn.metrics import mean_absolute_error, mean_squared_error, r2_score\n",
    "\n",
    "from statsmodels.tsa.arima.model import ARIMA\n",
    "\n",
    "from IPython.display import display\n",
    "pd.set_option('display.max_columns', None)\n",
    "pd.set_option('display.width', 1000)"
   ]
  },
  {
   "cell_type": "code",
   "execution_count": 4,
   "id": "537667f8-7195-43d6-b997-fec853982e18",
   "metadata": {},
   "outputs": [
    {
     "name": "stdout",
     "output_type": "stream",
     "text": [
      "       index       Date    Year     Month  Customer Age Customer Gender        Country           State Product Category     Sub Category  Quantity  Unit Cost   Unit Price    Cost      Revenue\n",
      "0          0  2/19/2016  2016.0  February          29.0               F  United States      Washington      Accessories  Tires and Tubes       1.0      80.00   109.000000    80.0   109.000000\n",
      "1          1  2/20/2016  2016.0  February          29.0               F  United States      Washington         Clothing           Gloves       2.0      24.50    28.500000    49.0    57.000000\n",
      "2          2  2/27/2016  2016.0  February          29.0               F  United States      Washington      Accessories  Tires and Tubes       3.0       3.67     5.000000    11.0    15.000000\n",
      "3          3  3/12/2016  2016.0     March          29.0               F  United States      Washington      Accessories  Tires and Tubes       2.0      87.50   116.500000   175.0   233.000000\n",
      "4          4  3/12/2016  2016.0     March          29.0               F  United States      Washington      Accessories  Tires and Tubes       3.0      35.00    41.666667   105.0   125.000000\n",
      "...      ...        ...     ...       ...           ...             ...            ...             ...              ...              ...       ...        ...          ...     ...          ...\n",
      "34862  34862   2/7/2016  2016.0  February          38.0               M         France  Hauts de Seine            Bikes   Mountain Bikes       2.0    1160.00   985.500000  2320.0  1971.000000\n",
      "34863  34863  3/13/2015  2015.0     March          38.0               M         France  Hauts de Seine            Bikes   Mountain Bikes       1.0    2049.00  1583.000000  2049.0  1583.000000\n",
      "34864  34864   4/5/2015  2015.0     April          38.0               M         France  Hauts de Seine            Bikes   Mountain Bikes       3.0     683.00   560.666667  2049.0  1682.000000\n",
      "34865  34865  8/30/2015  2015.0    August          38.0               M         France  Hauts de Seine            Bikes   Mountain Bikes       1.0    2320.00  1568.000000  2320.0  1568.000000\n",
      "34866  34866        NaN     NaN       NaN           NaN             NaN            NaN             NaN              NaN              NaN       NaN        NaN          NaN     NaN   641.532095\n",
      "\n",
      "[34867 rows x 15 columns]\n"
     ]
    }
   ],
   "source": [
    "pd.set_option('display.max_columns', None)\n",
    "df = pd.read_csv(r\"C:\\Users\\hp probook\\Desktop\\git_test\\Group 5-Dataset for Final Project.csv\")\n",
    "df.head()\n",
    "print(df)"
   ]
  },
  {
   "cell_type": "markdown",
   "id": "bfbbf2f8-6b55-4cde-8f11-397c5160e475",
   "metadata": {},
   "source": [
    "### 1.2 Check Data Types"
   ]
  },
  {
   "cell_type": "code",
   "execution_count": 5,
   "id": "5f88b82c-3add-4946-beb7-17ab21a34153",
   "metadata": {},
   "outputs": [
    {
     "name": "stdout",
     "output_type": "stream",
     "text": [
      "<class 'pandas.core.frame.DataFrame'>\n",
      "RangeIndex: 34867 entries, 0 to 34866\n",
      "Data columns (total 15 columns):\n",
      " #   Column            Non-Null Count  Dtype  \n",
      "---  ------            --------------  -----  \n",
      " 0   index             34867 non-null  int64  \n",
      " 1   Date              34866 non-null  object \n",
      " 2   Year              34866 non-null  float64\n",
      " 3   Month             34866 non-null  object \n",
      " 4   Customer Age      34716 non-null  float64\n",
      " 5   Customer Gender   34766 non-null  object \n",
      " 6   Country           34746 non-null  object \n",
      " 7   State             34866 non-null  object \n",
      " 8   Product Category  34866 non-null  object \n",
      " 9   Sub Category      34866 non-null  object \n",
      " 10  Quantity          34666 non-null  float64\n",
      " 11  Unit Cost         34686 non-null  float64\n",
      " 12  Unit Price        34706 non-null  float64\n",
      " 13  Cost              34866 non-null  float64\n",
      " 14  Revenue           34567 non-null  float64\n",
      "dtypes: float64(7), int64(1), object(7)\n",
      "memory usage: 4.0+ MB\n",
      "None\n",
      "index                 0\n",
      "Date                  1\n",
      "Year                  1\n",
      "Month                 1\n",
      "Customer Age        151\n",
      "Customer Gender     101\n",
      "Country             121\n",
      "State                 1\n",
      "Product Category      1\n",
      "Sub Category          1\n",
      "Quantity            201\n",
      "Unit Cost           181\n",
      "Unit Price          161\n",
      "Cost                  1\n",
      "Revenue             300\n",
      "dtype: int64\n"
     ]
    }
   ],
   "source": [
    "print(df.info())\n",
    "print(df.isnull().sum())"
   ]
  },
  {
   "cell_type": "markdown",
   "id": "a16d85fc-13a9-419d-8734-8d9520e34b54",
   "metadata": {},
   "source": [
    "### 1.3. Handle Duplicates & Outliers"
   ]
  },
  {
   "cell_type": "code",
   "execution_count": 6,
   "id": "35d4db7c-26be-46e8-9d8c-d48db71904e3",
   "metadata": {},
   "outputs": [
    {
     "name": "stdout",
     "output_type": "stream",
     "text": [
      "<class 'pandas.core.frame.DataFrame'>\n",
      "Index: 32263 entries, 0 to 34865\n",
      "Data columns (total 15 columns):\n",
      " #   Column            Non-Null Count  Dtype  \n",
      "---  ------            --------------  -----  \n",
      " 0   index             32263 non-null  int64  \n",
      " 1   Date              32263 non-null  object \n",
      " 2   Year              32263 non-null  float64\n",
      " 3   Month             32263 non-null  object \n",
      " 4   Customer Age      32130 non-null  float64\n",
      " 5   Customer Gender   32171 non-null  object \n",
      " 6   Country           32152 non-null  object \n",
      " 7   State             32263 non-null  object \n",
      " 8   Product Category  32263 non-null  object \n",
      " 9   Sub Category      32263 non-null  object \n",
      " 10  Quantity          32263 non-null  float64\n",
      " 11  Unit Cost         32263 non-null  float64\n",
      " 12  Unit Price        32263 non-null  float64\n",
      " 13  Cost              32263 non-null  float64\n",
      " 14  Revenue           32263 non-null  float64\n",
      "dtypes: float64(7), int64(1), object(7)\n",
      "memory usage: 3.9+ MB\n",
      "None\n",
      "index                 0\n",
      "Date                  0\n",
      "Year                  0\n",
      "Month                 0\n",
      "Customer Age        133\n",
      "Customer Gender      92\n",
      "Country             111\n",
      "State                 0\n",
      "Product Category      0\n",
      "Sub Category          0\n",
      "Quantity              0\n",
      "Unit Cost             0\n",
      "Unit Price            0\n",
      "Cost                  0\n",
      "Revenue               0\n",
      "dtype: int64\n"
     ]
    }
   ],
   "source": [
    "df.drop_duplicates(inplace=True)\n",
    "\n",
    "for col in ['Quantity', 'Unit Cost', 'Unit Price', 'Revenue']:\n",
    "    q_low = df[col].quantile(0.01)\n",
    "    q_hi  = df[col].quantile(0.99)\n",
    "    df = df[(df[col] >= q_low) & (df[col] <= q_hi)]\n",
    "print(df.info())\n",
    "print(df.isnull().sum())"
   ]
  },
  {
   "cell_type": "markdown",
   "id": "ef63ed94-edb4-498e-b4bb-ca0713def526",
   "metadata": {},
   "source": [
    "### 1.4 Convert Columns"
   ]
  },
  {
   "cell_type": "code",
   "execution_count": 7,
   "id": "a3af517c-a386-41d2-a186-4059c177a2e6",
   "metadata": {},
   "outputs": [
    {
     "data": {
      "text/plain": [
       "index                                    int64\n",
       "Date                            datetime64[ns]\n",
       "Year                                   float64\n",
       "Month                                   object\n",
       "Customer Age                           float64\n",
       "                                     ...      \n",
       "Sub Category_Shorts                       bool\n",
       "Sub Category_Socks                        bool\n",
       "Sub Category_Tires and Tubes              bool\n",
       "Sub Category_Touring Bikes                bool\n",
       "Sub Category_Vests                        bool\n",
       "Length: 76, dtype: object"
      ]
     },
     "execution_count": 7,
     "metadata": {},
     "output_type": "execute_result"
    }
   ],
   "source": [
    "# Convert 'Date' to datetime safely\n",
    "df['Date'] = pd.to_datetime(df['Date'], errors='coerce')\n",
    "\n",
    "# Drop rows with missing dates (optional, depending on context)\n",
    "df = df.dropna(subset=['Date'])\n",
    "\n",
    "# Safely get dummies for existing categorical columns\n",
    "categorical_cols = ['Customer Gender', 'Country', 'State', 'Product Category', 'Sub Category']\n",
    "categorical_cols = [col for col in categorical_cols if col in df.columns]\n",
    "\n",
    "df = pd.get_dummies(df, columns=categorical_cols, drop_first=True)\n",
    "\n",
    "# Check types\n",
    "df.dtypes"
   ]
  },
  {
   "cell_type": "markdown",
   "id": "827c6e2c-3cfb-4eb2-9214-f9a6149a9632",
   "metadata": {},
   "source": [
    "## Step 2: Exploratory Data Analysis (EDA)"
   ]
  },
  {
   "cell_type": "markdown",
   "id": "6daf3c7c-af88-49f8-9663-9a2ff82b193a",
   "metadata": {},
   "source": [
    "### 2.1 Descriptive Statistics"
   ]
  },
  {
   "cell_type": "code",
   "execution_count": null,
   "id": "88f273b8-2d04-41ce-aec7-69d6bce0ee8d",
   "metadata": {},
   "outputs": [],
   "source": []
  }
 ],
 "metadata": {
  "kernelspec": {
   "display_name": "Python 3 (ipykernel)",
   "language": "python",
   "name": "python3"
  },
  "language_info": {
   "codemirror_mode": {
    "name": "ipython",
    "version": 3
   },
   "file_extension": ".py",
   "mimetype": "text/x-python",
   "name": "python",
   "nbconvert_exporter": "python",
   "pygments_lexer": "ipython3",
   "version": "3.13.5"
  }
 },
 "nbformat": 4,
 "nbformat_minor": 5
}
