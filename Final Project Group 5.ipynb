{
 "cells": [
  {
   "cell_type": "markdown",
   "id": "231fec1f-1d9b-4bf6-a362-603938dbd80b",
   "metadata": {},
   "source": [
    "# Final Project-Group 5 Data Science Class"
   ]
  },
  {
   "cell_type": "markdown",
   "id": "ced36a8c-e64c-494f-bf0e-daf15e2d84ef",
   "metadata": {},
   "source": [
    "## Step 0: Dataset Description"
   ]
  },
  {
   "attachments": {},
   "cell_type": "markdown",
   "id": "a1204108-5c83-426c-b2e1-aaddb1e950fd",
   "metadata": {},
   "source": [
    "The dataset gives a detailed view of sales transactions, including customer demographics (age, gender, location), product details, and financial metrics like cost, revenue, and profit. It supports analysis of purchasing behavior across demographic groups and trends over time based on product quantity sold. Containing both numeric and categorical data, it enables multi-level analysis by product, customer, and region using various visualization and statistical techniques. It has 13 columns and 34865 rows. "
   ]
  },
  {
   "cell_type": "markdown",
   "id": "fb63f59b-49c0-426c-a614-356ed41ca37b",
   "metadata": {},
   "source": [
    "## Step 1: Data Pipeline & Preparation"
   ]
  },
  {
   "cell_type": "markdown",
   "id": "5fe7baed-b9ee-4465-9bb7-242045fa8f16",
   "metadata": {},
   "source": [
    "### 1.1. Data Acquisition"
   ]
  },
  {
   "cell_type": "code",
   "execution_count": 3,
   "id": "681af5ec-99d1-4a8f-b3d8-0e41d428de64",
   "metadata": {},
   "outputs": [],
   "source": [
    "import pandas as pd\n",
    "import numpy as np\n",
    "import matplotlib.pyplot as plt\n",
    "import seaborn as sns\n",
    "\n",
    "from sklearn.linear_model import LinearRegression\n",
    "from sklearn.model_selection import train_test_split\n",
    "from sklearn.metrics import mean_absolute_error, mean_squared_error, r2_score\n",
    "\n",
    "from statsmodels.tsa.arima.model import ARIMA\n",
    "\n",
    "from IPython.display import display\n",
    "pd.set_option('display.max_columns', None)\n",
    "pd.set_option('display.width', 1000)"
   ]
  },
  {
   "cell_type": "code",
   "execution_count": 8,
   "id": "537667f8-7195-43d6-b997-fec853982e18",
   "metadata": {},
   "outputs": [
    {
     "name": "stdout",
     "output_type": "stream",
     "text": [
      "       index       Date    Year     Month  Customer Age Customer Gender        Country           State Product Category     Sub Category  Quantity  Unit Cost   Unit Price    Cost      Revenue\n",
      "0          0  2/19/2016  2016.0  February          29.0               F  United States      Washington      Accessories  Tires and Tubes       1.0      80.00   109.000000    80.0   109.000000\n",
      "1          1  2/20/2016  2016.0  February          29.0               F  United States      Washington         Clothing           Gloves       2.0      24.50    28.500000    49.0    57.000000\n",
      "2          2  2/27/2016  2016.0  February          29.0               F  United States      Washington      Accessories  Tires and Tubes       3.0       3.67     5.000000    11.0    15.000000\n",
      "3          3  3/12/2016  2016.0     March          29.0               F  United States      Washington      Accessories  Tires and Tubes       2.0      87.50   116.500000   175.0   233.000000\n",
      "4          4  3/12/2016  2016.0     March          29.0               F  United States      Washington      Accessories  Tires and Tubes       3.0      35.00    41.666667   105.0   125.000000\n",
      "...      ...        ...     ...       ...           ...             ...            ...             ...              ...              ...       ...        ...          ...     ...          ...\n",
      "34862  34862   2/7/2016  2016.0  February          38.0               M         France  Hauts de Seine            Bikes   Mountain Bikes       2.0    1160.00   985.500000  2320.0  1971.000000\n",
      "34863  34863  3/13/2015  2015.0     March          38.0               M         France  Hauts de Seine            Bikes   Mountain Bikes       1.0    2049.00  1583.000000  2049.0  1583.000000\n",
      "34864  34864   4/5/2015  2015.0     April          38.0               M         France  Hauts de Seine            Bikes   Mountain Bikes       3.0     683.00   560.666667  2049.0  1682.000000\n",
      "34865  34865  8/30/2015  2015.0    August          38.0               M         France  Hauts de Seine            Bikes   Mountain Bikes       1.0    2320.00  1568.000000  2320.0  1568.000000\n",
      "34866  34866        NaN     NaN       NaN           NaN             NaN            NaN             NaN              NaN              NaN       NaN        NaN          NaN     NaN   641.532095\n",
      "\n",
      "[34867 rows x 15 columns]\n"
     ]
    }
   ],
   "source": [
    "pd.set_option('display.max_columns', None)\n",
    "df = pd.read_csv(r\"C:\\Users\\hp probook\\Desktop\\data_science_group5\\Group 5-Dataset for Final Project.csv\")\n",
    "df.head()\n",
    "print(df)"
   ]
  },
  {
   "cell_type": "markdown",
   "id": "bfbbf2f8-6b55-4cde-8f11-397c5160e475",
   "metadata": {},
   "source": [
    "### 1.2 Check Data Types"
   ]
  },
  {
   "cell_type": "code",
   "execution_count": 9,
   "id": "5f88b82c-3add-4946-beb7-17ab21a34153",
   "metadata": {},
   "outputs": [
    {
     "name": "stdout",
     "output_type": "stream",
     "text": [
      "<class 'pandas.core.frame.DataFrame'>\n",
      "RangeIndex: 34867 entries, 0 to 34866\n",
      "Data columns (total 15 columns):\n",
      " #   Column            Non-Null Count  Dtype  \n",
      "---  ------            --------------  -----  \n",
      " 0   index             34867 non-null  int64  \n",
      " 1   Date              34866 non-null  object \n",
      " 2   Year              34866 non-null  float64\n",
      " 3   Month             34866 non-null  object \n",
      " 4   Customer Age      34716 non-null  float64\n",
      " 5   Customer Gender   34766 non-null  object \n",
      " 6   Country           34746 non-null  object \n",
      " 7   State             34866 non-null  object \n",
      " 8   Product Category  34866 non-null  object \n",
      " 9   Sub Category      34866 non-null  object \n",
      " 10  Quantity          34666 non-null  float64\n",
      " 11  Unit Cost         34686 non-null  float64\n",
      " 12  Unit Price        34706 non-null  float64\n",
      " 13  Cost              34866 non-null  float64\n",
      " 14  Revenue           34567 non-null  float64\n",
      "dtypes: float64(7), int64(1), object(7)\n",
      "memory usage: 4.0+ MB\n",
      "None\n",
      "index                 0\n",
      "Date                  1\n",
      "Year                  1\n",
      "Month                 1\n",
      "Customer Age        151\n",
      "Customer Gender     101\n",
      "Country             121\n",
      "State                 1\n",
      "Product Category      1\n",
      "Sub Category          1\n",
      "Quantity            201\n",
      "Unit Cost           181\n",
      "Unit Price          161\n",
      "Cost                  1\n",
      "Revenue             300\n",
      "dtype: int64\n"
     ]
    }
   ],
   "source": [
    "print(df.info())\n",
    "print(df.isnull().sum())"
   ]
  },
  {
   "cell_type": "markdown",
   "id": "a16d85fc-13a9-419d-8734-8d9520e34b54",
   "metadata": {},
   "source": [
    "### 1.3. Handle Duplicates & Outliers"
   ]
  },
  {
   "cell_type": "code",
   "execution_count": 13,
   "id": "35d4db7c-26be-46e8-9d8c-d48db71904e3",
   "metadata": {},
   "outputs": [
    {
     "name": "stdout",
     "output_type": "stream",
     "text": [
      "<class 'pandas.core.frame.DataFrame'>\n",
      "Index: 30496 entries, 0 to 34864\n",
      "Data columns (total 76 columns):\n",
      " #   Column                          Non-Null Count  Dtype         \n",
      "---  ------                          --------------  -----         \n",
      " 0   index                           30496 non-null  int64         \n",
      " 1   Date                            30496 non-null  datetime64[ns]\n",
      " 2   Year                            30496 non-null  float64       \n",
      " 3   Month                           30496 non-null  object        \n",
      " 4   Customer Age                    30368 non-null  float64       \n",
      " 5   Quantity                        30496 non-null  float64       \n",
      " 6   Unit Cost                       30496 non-null  float64       \n",
      " 7   Unit Price                      30496 non-null  float64       \n",
      " 8   Cost                            30496 non-null  float64       \n",
      " 9   Revenue                         30496 non-null  float64       \n",
      " 10  Customer Gender_M               30496 non-null  bool          \n",
      " 11  Country_Germany                 30496 non-null  bool          \n",
      " 12  Country_United Kingdom          30496 non-null  bool          \n",
      " 13  Country_United States           30496 non-null  bool          \n",
      " 14  State_Arizona                   30496 non-null  bool          \n",
      " 15  State_Bayern                    30496 non-null  bool          \n",
      " 16  State_Brandenburg               30496 non-null  bool          \n",
      " 17  State_California                30496 non-null  bool          \n",
      " 18  State_Charente-Maritime         30496 non-null  bool          \n",
      " 19  State_England                   30496 non-null  bool          \n",
      " 20  State_Essonne                   30496 non-null  bool          \n",
      " 21  State_Florida                   30496 non-null  bool          \n",
      " 22  State_Garonne (Haute)           30496 non-null  bool          \n",
      " 23  State_Georgia                   30496 non-null  bool          \n",
      " 24  State_Hamburg                   30496 non-null  bool          \n",
      " 25  State_Hauts de Seine            30496 non-null  bool          \n",
      " 26  State_Hessen                    30496 non-null  bool          \n",
      " 27  State_Illinois                  30496 non-null  bool          \n",
      " 28  State_Kentucky                  30496 non-null  bool          \n",
      " 29  State_Loir et Cher              30496 non-null  bool          \n",
      " 30  State_Loiret                    30496 non-null  bool          \n",
      " 31  State_Massachusetts             30496 non-null  bool          \n",
      " 32  State_Minnesota                 30496 non-null  bool          \n",
      " 33  State_Mississippi               30496 non-null  bool          \n",
      " 34  State_Missouri                  30496 non-null  bool          \n",
      " 35  State_Montana                   30496 non-null  bool          \n",
      " 36  State_Moselle                   30496 non-null  bool          \n",
      " 37  State_New York                  30496 non-null  bool          \n",
      " 38  State_Nord                      30496 non-null  bool          \n",
      " 39  State_Nordrhein-Westfalen       30496 non-null  bool          \n",
      " 40  State_North Carolina            30496 non-null  bool          \n",
      " 41  State_Ohio                      30496 non-null  bool          \n",
      " 42  State_Oregon                    30496 non-null  bool          \n",
      " 43  State_Pas de Calais             30496 non-null  bool          \n",
      " 44  State_Saarland                  30496 non-null  bool          \n",
      " 45  State_Seine (Paris)             30496 non-null  bool          \n",
      " 46  State_Seine Saint Denis         30496 non-null  bool          \n",
      " 47  State_Seine et Marne            30496 non-null  bool          \n",
      " 48  State_Somme                     30496 non-null  bool          \n",
      " 49  State_South Carolina            30496 non-null  bool          \n",
      " 50  State_Texas                     30496 non-null  bool          \n",
      " 51  State_Utah                      30496 non-null  bool          \n",
      " 52  State_Val d'Oise                30496 non-null  bool          \n",
      " 53  State_Val de Marne              30496 non-null  bool          \n",
      " 54  State_Virginia                  30496 non-null  bool          \n",
      " 55  State_Washington                30496 non-null  bool          \n",
      " 56  State_Wyoming                   30496 non-null  bool          \n",
      " 57  State_Yveline                   30496 non-null  bool          \n",
      " 58  Product Category_Bikes          30496 non-null  bool          \n",
      " 59  Product Category_Clothing       30496 non-null  bool          \n",
      " 60  Sub Category_Bike Stands        30496 non-null  bool          \n",
      " 61  Sub Category_Bottles and Cages  30496 non-null  bool          \n",
      " 62  Sub Category_Caps               30496 non-null  bool          \n",
      " 63  Sub Category_Cleaners           30496 non-null  bool          \n",
      " 64  Sub Category_Fenders            30496 non-null  bool          \n",
      " 65  Sub Category_Gloves             30496 non-null  bool          \n",
      " 66  Sub Category_Helmets            30496 non-null  bool          \n",
      " 67  Sub Category_Hydration Packs    30496 non-null  bool          \n",
      " 68  Sub Category_Jerseys            30496 non-null  bool          \n",
      " 69  Sub Category_Mountain Bikes     30496 non-null  bool          \n",
      " 70  Sub Category_Road Bikes         30496 non-null  bool          \n",
      " 71  Sub Category_Shorts             30496 non-null  bool          \n",
      " 72  Sub Category_Socks              30496 non-null  bool          \n",
      " 73  Sub Category_Tires and Tubes    30496 non-null  bool          \n",
      " 74  Sub Category_Touring Bikes      30496 non-null  bool          \n",
      " 75  Sub Category_Vests              30496 non-null  bool          \n",
      "dtypes: bool(66), datetime64[ns](1), float64(7), int64(1), object(1)\n",
      "memory usage: 4.5+ MB\n",
      "None\n",
      "index                             0\n",
      "Date                              0\n",
      "Year                              0\n",
      "Month                             0\n",
      "Customer Age                    128\n",
      "                               ... \n",
      "Sub Category_Shorts               0\n",
      "Sub Category_Socks                0\n",
      "Sub Category_Tires and Tubes      0\n",
      "Sub Category_Touring Bikes        0\n",
      "Sub Category_Vests                0\n",
      "Length: 76, dtype: int64\n"
     ]
    }
   ],
   "source": [
    "df.drop_duplicates(inplace=True)\n",
    "\n",
    "for col in ['Quantity', 'Unit Cost', 'Unit Price', 'Revenue']:\n",
    "    q_low = df[col].quantile(0.01)\n",
    "    q_hi  = df[col].quantile(0.99)\n",
    "    df = df[(df[col] >= q_low) & (df[col] <= q_hi)]\n",
    "print(df.info())\n",
    "print(df.isnull().sum())"
   ]
  },
  {
   "cell_type": "markdown",
   "id": "ef63ed94-edb4-498e-b4bb-ca0713def526",
   "metadata": {},
   "source": [
    "### 1.4 Fill the Missing Values"
   ]
  },
  {
   "cell_type": "code",
   "execution_count": 18,
   "id": "a3af517c-a386-41d2-a186-4059c177a2e6",
   "metadata": {},
   "outputs": [],
   "source": [
    "# Fill the missing values with the mean\n",
    "df['Customer Age'] = df['Customer Age'].fillna(df['Customer Age'].mean())"
   ]
  },
  {
   "cell_type": "markdown",
   "id": "137a3735-a282-40fa-a93e-a60896a395ce",
   "metadata": {},
   "source": [
    "### 1.5 Data Preparation Final Check"
   ]
  },
  {
   "cell_type": "code",
   "execution_count": 22,
   "id": "decdd6d2-2f3f-45c4-ae8c-d4a9f1e7494f",
   "metadata": {},
   "outputs": [
    {
     "name": "stdout",
     "output_type": "stream",
     "text": [
      "Missing values in each column:\n",
      "index                           0\n",
      "Date                            0\n",
      "Year                            0\n",
      "Month                           0\n",
      "Customer Age                    0\n",
      "                               ..\n",
      "Sub Category_Shorts             0\n",
      "Sub Category_Socks              0\n",
      "Sub Category_Tires and Tubes    0\n",
      "Sub Category_Touring Bikes      0\n",
      "Sub Category_Vests              0\n",
      "Length: 76, dtype: int64\n",
      "\n",
      "\n",
      "Data types of each column:\n",
      "index                                    int64\n",
      "Date                            datetime64[ns]\n",
      "Year                                   float64\n",
      "Month                                   object\n",
      "Customer Age                           float64\n",
      "                                     ...      \n",
      "Sub Category_Shorts                       bool\n",
      "Sub Category_Socks                        bool\n",
      "Sub Category_Tires and Tubes              bool\n",
      "Sub Category_Touring Bikes                bool\n",
      "Sub Category_Vests                        bool\n",
      "Length: 76, dtype: object\n",
      "\n",
      "\n",
      "Summary statistics of the numerical columns:\n",
      "              index                           Date          Year  Customer Age      Quantity     Unit Cost    Unit Price          Cost       Revenue\n",
      "count  30496.000000                          30496  30496.000000  30496.000000  30496.000000  30496.000000  30496.000000  30496.000000  30496.000000\n",
      "mean   17535.721242  2016-01-20 16:07:42.749213184   2015.569681     36.297221      2.022298    288.106775    322.453792    510.758427    567.565222\n",
      "min        0.000000            2015-01-01 00:00:00   2015.000000     17.000000      1.000000      6.670000      9.666667     15.000000     23.000000\n",
      "25%     8839.500000            2015-10-27 00:00:00   2015.000000     28.000000      1.000000     50.000000     61.000000     98.000000    116.000000\n",
      "50%    17641.500000            2016-01-28 00:00:00   2016.000000     35.000000      2.000000    150.000000    179.500000    261.000000    320.000000\n",
      "75%    26176.250000            2016-04-26 00:00:00   2016.000000     44.000000      3.000000    391.500000    465.000000    742.000000    823.250000\n",
      "max    34864.000000            2016-07-31 00:00:00   2016.000000     87.000000      3.000000   2295.000000   1969.000000   2443.000000   2563.000000\n",
      "std    10042.899507                            NaN      0.495129     11.108485      0.806817    338.524822    358.861681    581.014381    596.752007\n",
      "\n",
      "\n",
      "Number of duplicate rows: 0\n",
      "\n",
      "\n",
      "Unique values in 'Month' column:\n",
      "['February' 'March' 'April' 'June' 'July' 'August' 'September' 'October'\n",
      " 'November' 'December' 'May' 'January']\n",
      "\n",
      "\n",
      "Unique values in 'Customer Gender_M' column:\n",
      "[False  True]\n",
      "\n",
      "\n",
      "Dataset shape (rows, columns):\n",
      "(30496, 76)\n",
      "\n",
      "\n",
      "Summary of the first few rows (column names, non-null counts, data types):\n",
      "<class 'pandas.core.frame.DataFrame'>\n",
      "Index: 30496 entries, 0 to 34864\n",
      "Data columns (total 76 columns):\n",
      " #   Column                          Non-Null Count  Dtype         \n",
      "---  ------                          --------------  -----         \n",
      " 0   index                           30496 non-null  int64         \n",
      " 1   Date                            30496 non-null  datetime64[ns]\n",
      " 2   Year                            30496 non-null  float64       \n",
      " 3   Month                           30496 non-null  object        \n",
      " 4   Customer Age                    30496 non-null  float64       \n",
      " 5   Quantity                        30496 non-null  float64       \n",
      " 6   Unit Cost                       30496 non-null  float64       \n",
      " 7   Unit Price                      30496 non-null  float64       \n",
      " 8   Cost                            30496 non-null  float64       \n",
      " 9   Revenue                         30496 non-null  float64       \n",
      " 10  Customer Gender_M               30496 non-null  bool          \n",
      " 11  Country_Germany                 30496 non-null  bool          \n",
      " 12  Country_United Kingdom          30496 non-null  bool          \n",
      " 13  Country_United States           30496 non-null  bool          \n",
      " 14  State_Arizona                   30496 non-null  bool          \n",
      " 15  State_Bayern                    30496 non-null  bool          \n",
      " 16  State_Brandenburg               30496 non-null  bool          \n",
      " 17  State_California                30496 non-null  bool          \n",
      " 18  State_Charente-Maritime         30496 non-null  bool          \n",
      " 19  State_England                   30496 non-null  bool          \n",
      " 20  State_Essonne                   30496 non-null  bool          \n",
      " 21  State_Florida                   30496 non-null  bool          \n",
      " 22  State_Garonne (Haute)           30496 non-null  bool          \n",
      " 23  State_Georgia                   30496 non-null  bool          \n",
      " 24  State_Hamburg                   30496 non-null  bool          \n",
      " 25  State_Hauts de Seine            30496 non-null  bool          \n",
      " 26  State_Hessen                    30496 non-null  bool          \n",
      " 27  State_Illinois                  30496 non-null  bool          \n",
      " 28  State_Kentucky                  30496 non-null  bool          \n",
      " 29  State_Loir et Cher              30496 non-null  bool          \n",
      " 30  State_Loiret                    30496 non-null  bool          \n",
      " 31  State_Massachusetts             30496 non-null  bool          \n",
      " 32  State_Minnesota                 30496 non-null  bool          \n",
      " 33  State_Mississippi               30496 non-null  bool          \n",
      " 34  State_Missouri                  30496 non-null  bool          \n",
      " 35  State_Montana                   30496 non-null  bool          \n",
      " 36  State_Moselle                   30496 non-null  bool          \n",
      " 37  State_New York                  30496 non-null  bool          \n",
      " 38  State_Nord                      30496 non-null  bool          \n",
      " 39  State_Nordrhein-Westfalen       30496 non-null  bool          \n",
      " 40  State_North Carolina            30496 non-null  bool          \n",
      " 41  State_Ohio                      30496 non-null  bool          \n",
      " 42  State_Oregon                    30496 non-null  bool          \n",
      " 43  State_Pas de Calais             30496 non-null  bool          \n",
      " 44  State_Saarland                  30496 non-null  bool          \n",
      " 45  State_Seine (Paris)             30496 non-null  bool          \n",
      " 46  State_Seine Saint Denis         30496 non-null  bool          \n",
      " 47  State_Seine et Marne            30496 non-null  bool          \n",
      " 48  State_Somme                     30496 non-null  bool          \n",
      " 49  State_South Carolina            30496 non-null  bool          \n",
      " 50  State_Texas                     30496 non-null  bool          \n",
      " 51  State_Utah                      30496 non-null  bool          \n",
      " 52  State_Val d'Oise                30496 non-null  bool          \n",
      " 53  State_Val de Marne              30496 non-null  bool          \n",
      " 54  State_Virginia                  30496 non-null  bool          \n",
      " 55  State_Washington                30496 non-null  bool          \n",
      " 56  State_Wyoming                   30496 non-null  bool          \n",
      " 57  State_Yveline                   30496 non-null  bool          \n",
      " 58  Product Category_Bikes          30496 non-null  bool          \n",
      " 59  Product Category_Clothing       30496 non-null  bool          \n",
      " 60  Sub Category_Bike Stands        30496 non-null  bool          \n",
      " 61  Sub Category_Bottles and Cages  30496 non-null  bool          \n",
      " 62  Sub Category_Caps               30496 non-null  bool          \n",
      " 63  Sub Category_Cleaners           30496 non-null  bool          \n",
      " 64  Sub Category_Fenders            30496 non-null  bool          \n",
      " 65  Sub Category_Gloves             30496 non-null  bool          \n",
      " 66  Sub Category_Helmets            30496 non-null  bool          \n",
      " 67  Sub Category_Hydration Packs    30496 non-null  bool          \n",
      " 68  Sub Category_Jerseys            30496 non-null  bool          \n",
      " 69  Sub Category_Mountain Bikes     30496 non-null  bool          \n",
      " 70  Sub Category_Road Bikes         30496 non-null  bool          \n",
      " 71  Sub Category_Shorts             30496 non-null  bool          \n",
      " 72  Sub Category_Socks              30496 non-null  bool          \n",
      " 73  Sub Category_Tires and Tubes    30496 non-null  bool          \n",
      " 74  Sub Category_Touring Bikes      30496 non-null  bool          \n",
      " 75  Sub Category_Vests              30496 non-null  bool          \n",
      "dtypes: bool(66), datetime64[ns](1), float64(7), int64(1), object(1)\n",
      "memory usage: 4.5+ MB\n",
      "None\n"
     ]
    }
   ],
   "source": [
    "# 1. Check for Missing Values\n",
    "print(\"Missing values in each column:\")\n",
    "print(df.isnull().sum())\n",
    "print(\"\\n\")  # Add a new line for clarity\n",
    "\n",
    "# 2. Check Data Types\n",
    "print(\"Data types of each column:\")\n",
    "print(df.dtypes)\n",
    "print(\"\\n\")\n",
    "\n",
    "# 3. Summary Statistics\n",
    "print(\"Summary statistics of the numerical columns:\")\n",
    "print(df.describe())\n",
    "print(\"\\n\")\n",
    "\n",
    "# 4. Check for Duplicates\n",
    "duplicate_rows = df.duplicated().sum()\n",
    "print(f\"Number of duplicate rows: {duplicate_rows}\")\n",
    "print(\"\\n\")\n",
    "\n",
    "# 5. Validate Categorical Columns (Example: Check 'Month' and 'Customer Gender_M')\n",
    "print(\"Unique values in 'Month' column:\")\n",
    "print(df['Month'].unique())\n",
    "print(\"\\n\")\n",
    "\n",
    "print(\"Unique values in 'Customer Gender_M' column:\")\n",
    "print(df['Customer Gender_M'].unique())\n",
    "print(\"\\n\")\n",
    "\n",
    "# 6. Final Review of Data Integrity (Show brief summary of the first few rows)\n",
    "print(\"Dataset shape (rows, columns):\")\n",
    "print(df.shape)\n",
    "print(\"\\n\")\n",
    "\n",
    "print(\"Summary of the first few rows (column names, non-null counts, data types):\")\n",
    "print(df.info())\n"
   ]
  },
  {
   "cell_type": "markdown",
   "id": "0ecc5e25-5321-48bc-a1e3-5ba37602b41e",
   "metadata": {},
   "source": [
    "#### Data Preparation Narrative Conclusion"
   ]
  },
  {
   "cell_type": "markdown",
   "id": "522d8319-68a3-48a8-8925-20cd3c91fca8",
   "metadata": {},
   "source": [
    "Based on the above critical checks for missing values, data types, duplicates, and column cleanliness, our dataset looks clean and ready for analysis. The following will be the exploration data analysis. "
   ]
  },
  {
   "cell_type": "markdown",
   "id": "827c6e2c-3cfb-4eb2-9214-f9a6149a9632",
   "metadata": {},
   "source": [
    "## Step 2: Exploratory Data Analysis (EDA)"
   ]
  },
  {
   "cell_type": "markdown",
   "id": "6daf3c7c-af88-49f8-9663-9a2ff82b193a",
   "metadata": {},
   "source": [
    "### 2.1 Descriptive Statistics"
   ]
  },
  {
   "cell_type": "code",
   "execution_count": null,
   "id": "88f273b8-2d04-41ce-aec7-69d6bce0ee8d",
   "metadata": {},
   "outputs": [],
   "source": []
  }
 ],
 "metadata": {
  "kernelspec": {
   "display_name": "Python 3 (ipykernel)",
   "language": "python",
   "name": "python3"
  },
  "language_info": {
   "codemirror_mode": {
    "name": "ipython",
    "version": 3
   },
   "file_extension": ".py",
   "mimetype": "text/x-python",
   "name": "python",
   "nbconvert_exporter": "python",
   "pygments_lexer": "ipython3",
   "version": "3.13.5"
  }
 },
 "nbformat": 4,
 "nbformat_minor": 5
}
